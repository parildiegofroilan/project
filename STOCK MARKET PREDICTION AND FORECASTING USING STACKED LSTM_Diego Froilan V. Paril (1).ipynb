{
 "cells": [
  {
   "cell_type": "markdown",
   "id": "3dc413e0",
   "metadata": {},
   "source": [
    "# STOCK MARKET PREDICTION"
   ]
  },
  {
   "cell_type": "markdown",
   "id": "279f4ddc",
   "metadata": {},
   "source": [
    "## Objective: Determine highest price and lowest price in the trading      based on the opening price.\n"
   ]
  },
  {
   "cell_type": "code",
   "execution_count": 1,
   "id": "f4b2d0ea",
   "metadata": {},
   "outputs": [],
   "source": [
    "import numpy as np\n",
    "import pandas as pd\n",
    "df2 = pd.read_csv('NSE-TATAGLOBAL.csv')"
   ]
  },
  {
   "cell_type": "code",
   "execution_count": 2,
   "id": "e91b7a94",
   "metadata": {},
   "outputs": [
    {
     "data": {
      "text/html": [
       "<div>\n",
       "<style scoped>\n",
       "    .dataframe tbody tr th:only-of-type {\n",
       "        vertical-align: middle;\n",
       "    }\n",
       "\n",
       "    .dataframe tbody tr th {\n",
       "        vertical-align: top;\n",
       "    }\n",
       "\n",
       "    .dataframe thead th {\n",
       "        text-align: right;\n",
       "    }\n",
       "</style>\n",
       "<table border=\"1\" class=\"dataframe\">\n",
       "  <thead>\n",
       "    <tr style=\"text-align: right;\">\n",
       "      <th></th>\n",
       "      <th>Date</th>\n",
       "      <th>Open</th>\n",
       "      <th>High</th>\n",
       "      <th>Low</th>\n",
       "      <th>Last</th>\n",
       "      <th>Close</th>\n",
       "      <th>Total Trade Quantity</th>\n",
       "      <th>Turnover (Lacs)</th>\n",
       "    </tr>\n",
       "  </thead>\n",
       "  <tbody>\n",
       "    <tr>\n",
       "      <th>0</th>\n",
       "      <td>2018-09-28</td>\n",
       "      <td>234.05</td>\n",
       "      <td>235.95</td>\n",
       "      <td>230.20</td>\n",
       "      <td>233.50</td>\n",
       "      <td>233.75</td>\n",
       "      <td>3069914</td>\n",
       "      <td>7162.35</td>\n",
       "    </tr>\n",
       "    <tr>\n",
       "      <th>1</th>\n",
       "      <td>2018-09-27</td>\n",
       "      <td>234.55</td>\n",
       "      <td>236.80</td>\n",
       "      <td>231.10</td>\n",
       "      <td>233.80</td>\n",
       "      <td>233.25</td>\n",
       "      <td>5082859</td>\n",
       "      <td>11859.95</td>\n",
       "    </tr>\n",
       "    <tr>\n",
       "      <th>2</th>\n",
       "      <td>2018-09-26</td>\n",
       "      <td>240.00</td>\n",
       "      <td>240.00</td>\n",
       "      <td>232.50</td>\n",
       "      <td>235.00</td>\n",
       "      <td>234.25</td>\n",
       "      <td>2240909</td>\n",
       "      <td>5248.60</td>\n",
       "    </tr>\n",
       "    <tr>\n",
       "      <th>3</th>\n",
       "      <td>2018-09-25</td>\n",
       "      <td>233.30</td>\n",
       "      <td>236.75</td>\n",
       "      <td>232.00</td>\n",
       "      <td>236.25</td>\n",
       "      <td>236.10</td>\n",
       "      <td>2349368</td>\n",
       "      <td>5503.90</td>\n",
       "    </tr>\n",
       "    <tr>\n",
       "      <th>4</th>\n",
       "      <td>2018-09-24</td>\n",
       "      <td>233.55</td>\n",
       "      <td>239.20</td>\n",
       "      <td>230.75</td>\n",
       "      <td>234.00</td>\n",
       "      <td>233.30</td>\n",
       "      <td>3423509</td>\n",
       "      <td>7999.55</td>\n",
       "    </tr>\n",
       "  </tbody>\n",
       "</table>\n",
       "</div>"
      ],
      "text/plain": [
       "         Date    Open    High     Low    Last   Close  Total Trade Quantity  \\\n",
       "0  2018-09-28  234.05  235.95  230.20  233.50  233.75               3069914   \n",
       "1  2018-09-27  234.55  236.80  231.10  233.80  233.25               5082859   \n",
       "2  2018-09-26  240.00  240.00  232.50  235.00  234.25               2240909   \n",
       "3  2018-09-25  233.30  236.75  232.00  236.25  236.10               2349368   \n",
       "4  2018-09-24  233.55  239.20  230.75  234.00  233.30               3423509   \n",
       "\n",
       "   Turnover (Lacs)  \n",
       "0          7162.35  \n",
       "1         11859.95  \n",
       "2          5248.60  \n",
       "3          5503.90  \n",
       "4          7999.55  "
      ]
     },
     "execution_count": 2,
     "metadata": {},
     "output_type": "execute_result"
    }
   ],
   "source": [
    "df2.head(5)"
   ]
  },
  {
   "cell_type": "code",
   "execution_count": 3,
   "id": "374dbaba",
   "metadata": {},
   "outputs": [
    {
     "data": {
      "text/html": [
       "<div>\n",
       "<style scoped>\n",
       "    .dataframe tbody tr th:only-of-type {\n",
       "        vertical-align: middle;\n",
       "    }\n",
       "\n",
       "    .dataframe tbody tr th {\n",
       "        vertical-align: top;\n",
       "    }\n",
       "\n",
       "    .dataframe thead th {\n",
       "        text-align: right;\n",
       "    }\n",
       "</style>\n",
       "<table border=\"1\" class=\"dataframe\">\n",
       "  <thead>\n",
       "    <tr style=\"text-align: right;\">\n",
       "      <th></th>\n",
       "      <th>Date</th>\n",
       "      <th>Open</th>\n",
       "      <th>High</th>\n",
       "      <th>Low</th>\n",
       "      <th>Last</th>\n",
       "      <th>Close</th>\n",
       "      <th>Total Trade Quantity</th>\n",
       "      <th>Turnover (Lacs)</th>\n",
       "    </tr>\n",
       "  </thead>\n",
       "  <tbody>\n",
       "    <tr>\n",
       "      <th>2030</th>\n",
       "      <td>2010-07-27</td>\n",
       "      <td>117.6</td>\n",
       "      <td>119.50</td>\n",
       "      <td>112.00</td>\n",
       "      <td>118.80</td>\n",
       "      <td>118.65</td>\n",
       "      <td>586100</td>\n",
       "      <td>694.98</td>\n",
       "    </tr>\n",
       "    <tr>\n",
       "      <th>2031</th>\n",
       "      <td>2010-07-26</td>\n",
       "      <td>120.1</td>\n",
       "      <td>121.00</td>\n",
       "      <td>117.10</td>\n",
       "      <td>117.10</td>\n",
       "      <td>117.60</td>\n",
       "      <td>658440</td>\n",
       "      <td>780.01</td>\n",
       "    </tr>\n",
       "    <tr>\n",
       "      <th>2032</th>\n",
       "      <td>2010-07-23</td>\n",
       "      <td>121.8</td>\n",
       "      <td>121.95</td>\n",
       "      <td>120.25</td>\n",
       "      <td>120.35</td>\n",
       "      <td>120.65</td>\n",
       "      <td>281312</td>\n",
       "      <td>340.31</td>\n",
       "    </tr>\n",
       "    <tr>\n",
       "      <th>2033</th>\n",
       "      <td>2010-07-22</td>\n",
       "      <td>120.3</td>\n",
       "      <td>122.00</td>\n",
       "      <td>120.25</td>\n",
       "      <td>120.75</td>\n",
       "      <td>120.90</td>\n",
       "      <td>293312</td>\n",
       "      <td>355.17</td>\n",
       "    </tr>\n",
       "    <tr>\n",
       "      <th>2034</th>\n",
       "      <td>2010-07-21</td>\n",
       "      <td>122.1</td>\n",
       "      <td>123.00</td>\n",
       "      <td>121.05</td>\n",
       "      <td>121.10</td>\n",
       "      <td>121.55</td>\n",
       "      <td>658666</td>\n",
       "      <td>803.56</td>\n",
       "    </tr>\n",
       "  </tbody>\n",
       "</table>\n",
       "</div>"
      ],
      "text/plain": [
       "            Date   Open    High     Low    Last   Close  Total Trade Quantity  \\\n",
       "2030  2010-07-27  117.6  119.50  112.00  118.80  118.65                586100   \n",
       "2031  2010-07-26  120.1  121.00  117.10  117.10  117.60                658440   \n",
       "2032  2010-07-23  121.8  121.95  120.25  120.35  120.65                281312   \n",
       "2033  2010-07-22  120.3  122.00  120.25  120.75  120.90                293312   \n",
       "2034  2010-07-21  122.1  123.00  121.05  121.10  121.55                658666   \n",
       "\n",
       "      Turnover (Lacs)  \n",
       "2030           694.98  \n",
       "2031           780.01  \n",
       "2032           340.31  \n",
       "2033           355.17  \n",
       "2034           803.56  "
      ]
     },
     "execution_count": 3,
     "metadata": {},
     "output_type": "execute_result"
    }
   ],
   "source": [
    "df2.tail(5)"
   ]
  },
  {
   "cell_type": "code",
   "execution_count": 4,
   "id": "1c35801b",
   "metadata": {},
   "outputs": [
    {
     "name": "stdout",
     "output_type": "stream",
     "text": [
      "<class 'pandas.core.frame.DataFrame'>\n",
      "RangeIndex: 2035 entries, 0 to 2034\n",
      "Data columns (total 8 columns):\n",
      " #   Column                Non-Null Count  Dtype  \n",
      "---  ------                --------------  -----  \n",
      " 0   Date                  2035 non-null   object \n",
      " 1   Open                  2035 non-null   float64\n",
      " 2   High                  2035 non-null   float64\n",
      " 3   Low                   2035 non-null   float64\n",
      " 4   Last                  2035 non-null   float64\n",
      " 5   Close                 2035 non-null   float64\n",
      " 6   Total Trade Quantity  2035 non-null   int64  \n",
      " 7   Turnover (Lacs)       2035 non-null   float64\n",
      "dtypes: float64(6), int64(1), object(1)\n",
      "memory usage: 127.3+ KB\n"
     ]
    }
   ],
   "source": [
    "df2.info()"
   ]
  },
  {
   "cell_type": "code",
   "execution_count": 51,
   "id": "ccdefd51",
   "metadata": {},
   "outputs": [
    {
     "name": "stdout",
     "output_type": "stream",
     "text": [
      "Duplicate values in column 'Date':\n",
      "Empty DataFrame\n",
      "Columns: [Date, Open, High, Low, Last, Close, Total Trade Quantity, Turnover (Lacs)]\n",
      "Index: []\n",
      "\n",
      "Number of duplicates in column 'Date': 0\n"
     ]
    }
   ],
   "source": [
    "#Check for duplicates in \"Date\"\n",
    "column_to_check = 'Date'\n",
    "duplicates = df2[df2.duplicated(subset=[column_to_check], keep=False)]\n",
    "num_duplicates = duplicates.shape[0]\n",
    "\n",
    "print(f\"Duplicate values in column '{column_to_check}':\")\n",
    "print(duplicates)\n",
    "print(f\"\\nNumber of duplicates in column '{column_to_check}': {num_duplicates}\")\n"
   ]
  },
  {
   "cell_type": "markdown",
   "id": "f9e9c70e",
   "metadata": {},
   "source": [
    "Given the the information and duplicates of the data frame. THere is no null values and duplicated dates."
   ]
  },
  {
   "cell_type": "code",
   "execution_count": 52,
   "id": "838f741e",
   "metadata": {},
   "outputs": [
    {
     "name": "stdout",
     "output_type": "stream",
     "text": [
      "                          Open      High       Low      Last     Close  \\\n",
      "Open                  1.000000  0.999015  0.998825  0.997781  0.997840   \n",
      "High                  0.999015  1.000000  0.998773  0.999155  0.999194   \n",
      "Low                   0.998825  0.998773  1.000000  0.999051  0.999119   \n",
      "Last                  0.997781  0.999155  0.999051  1.000000  0.999961   \n",
      "Close                 0.997840  0.999194  0.999119  0.999961  1.000000   \n",
      "Total Trade Quantity  0.385951  0.406405  0.380621  0.399328  0.398911   \n",
      "Turnover (Lacs)       0.612877  0.630589  0.608502  0.624584  0.624213   \n",
      "\n",
      "                      Total Trade Quantity  Turnover (Lacs)  \n",
      "Open                              0.385951         0.612877  \n",
      "High                              0.406405         0.630589  \n",
      "Low                               0.380621         0.608502  \n",
      "Last                              0.399328         0.624584  \n",
      "Close                             0.398911         0.624213  \n",
      "Total Trade Quantity              1.000000         0.926931  \n",
      "Turnover (Lacs)                   0.926931         1.000000  \n"
     ]
    }
   ],
   "source": [
    "# Correlates among the attributes.\n",
    "correlation_matrix = df2[['Open', 'High', 'Low', 'Last', 'Close', 'Total Trade Quantity', 'Turnover (Lacs)']].corr()\n",
    "print(correlation_matrix)\n"
   ]
  },
  {
   "cell_type": "code",
   "execution_count": 14,
   "id": "63bd079a",
   "metadata": {},
   "outputs": [
    {
     "name": "stdout",
     "output_type": "stream",
     "text": [
      "Open                    1.000000\n",
      "High                    0.999015\n",
      "Low                     0.998825\n",
      "Close                   0.997840\n",
      "Last                    0.997781\n",
      "Turnover (Lacs)         0.612877\n",
      "Total Trade Quantity    0.385951\n",
      "Name: Open, dtype: float64\n"
     ]
    }
   ],
   "source": [
    "#Sorting attributre correlated with \"Open\"\n",
    "open_correlations = correlation_matrix['Open'].sort_values(ascending=False)\n",
    "\n",
    "print(open_correlations)\n"
   ]
  },
  {
   "cell_type": "raw",
   "id": "3141c61f",
   "metadata": {},
   "source": [
    "Knowing the Opening price \"Open\" may lead to the determination for the highest price \"High\" of the trading as well as the lowest price \"Low\" of the trading. Being able to predict the highest price can help in deternmining the best price to sell a stock. Conversely, being able to predict the lowest price can help in determining the best price to buy a stock during a trading day. "
   ]
  },
  {
   "cell_type": "code",
   "execution_count": 15,
   "id": "5d56635c",
   "metadata": {},
   "outputs": [
    {
     "name": "stderr",
     "output_type": "stream",
     "text": [
      "C:\\Users\\Admin\\anaconda3\\lib\\site-packages\\scipy\\__init__.py:155: UserWarning: A NumPy version >=1.18.5 and <1.25.0 is required for this version of SciPy (detected version 1.26.1\n",
      "  warnings.warn(f\"A NumPy version >={np_minversion} and <{np_maxversion}\"\n"
     ]
    },
    {
     "data": {
      "image/png": "[encoded data removed]",
      "text/plain": [
       "<Figure size 640x480 with 1 Axes>"
      ]
     },
     "metadata": {},
     "output_type": "display_data"
    },
    {
     "data": {
      "image/png": "[encoded data removed]",
      "text/plain": [
       "<Figure size 640x480 with 1 Axes>"
      ]
     },
     "metadata": {},
     "output_type": "display_data"
    }
   ],
   "source": [
    "#Scatterplot of \"Open\" with \"High\" and \"Low\"\n",
    "import seaborn as sns\n",
    "import matplotlib.pyplot as plt\n",
    "\n",
    "# Scatterplot for 'Open' vs. 'High'\n",
    "sns.scatterplot(data=df2, x='Open', y='High')\n",
    "plt.title('Scatterplot: Open vs. High')\n",
    "plt.show()\n",
    "\n",
    "#Scatterplot for 'Open' vs. 'Low'\n",
    "sns.scatterplot(data=df2, x='Open', y='Low')\n",
    "plt.title('Scatterplot: Open vs. Low')\n",
    "plt.show()\n"
   ]
  },
  {
   "cell_type": "raw",
   "id": "ba86cf6d",
   "metadata": {},
   "source": [
    "We can see from teh scatterplot that there is an almost linear relationship between \"Open\" and \"High\" as well as between \"Open\" and \"Low\""
   ]
  },
  {
   "cell_type": "code",
   "execution_count": 53,
   "id": "eaa0d33e",
   "metadata": {},
   "outputs": [
    {
     "data": {
      "text/plain": [
       "<Figure size 1200x600 with 0 Axes>"
      ]
     },
     "metadata": {},
     "output_type": "display_data"
    },
    {
     "data": {
      "image/png": "[encoded data removed]",
      "text/plain": [
       "<Figure size 640x480 with 1 Axes>"
      ]
     },
     "metadata": {},
     "output_type": "display_data"
    },
    {
     "data": {
      "text/plain": [
       "<Figure size 1200x600 with 0 Axes>"
      ]
     },
     "metadata": {},
     "output_type": "display_data"
    },
    {
     "data": {
      "image/png": "[encoded data removed]",
      "text/plain": [
       "<Figure size 640x480 with 1 Axes>"
      ]
     },
     "metadata": {},
     "output_type": "display_data"
    }
   ],
   "source": [
    "#Plotting of auto-correlate function for \"Open\" and \"High\"\n",
    "import statsmodels\n",
    "from statsmodels.graphics.tsaplots import plot_acf\n",
    "\n",
    "data = df2[['Open', 'High']]\n",
    "\n",
    "# Plot ACF for 'Open'\n",
    "plt.figure(figsize=(12, 6))\n",
    "plot_acf(data['Open'], lags=200, title=\"ACF for 'Opening Price'\")\n",
    "plt.show()\n",
    "\n",
    "# Plot ACF for 'High'\n",
    "plt.figure(figsize=(12, 6))\n",
    "plot_acf(data['High'], lags=200, title=\"ACF for 'Highest Price'\")\n",
    "plt.show()\n"
   ]
  },
  {
   "cell_type": "code",
   "execution_count": 21,
   "id": "ce123295",
   "metadata": {},
   "outputs": [
    {
     "data": {
      "text/plain": [
       "<Figure size 1200x600 with 0 Axes>"
      ]
     },
     "metadata": {},
     "output_type": "display_data"
    },
    {
     "data": {
      "image/png": "[encoded data removed]",
      "text/plain": [
       "<Figure size 640x480 with 1 Axes>"
      ]
     },
     "metadata": {},
     "output_type": "display_data"
    }
   ],
   "source": [
    "#Plotting auto-correlate function for \"Low\"\n",
    "data = df2[['Low']]\n",
    "\n",
    "# Plot ACF for 'High'\n",
    "plt.figure(figsize=(12, 6))\n",
    "plot_acf(data['Low'], lags=200, title=\"ACF for 'Lowest Price'\")\n",
    "plt.show()\n"
   ]
  },
  {
   "cell_type": "raw",
   "id": "5f49dd52",
   "metadata": {},
   "source": [
    "The plot above shows that there is high Auto-correlation amongst  \"Open\", \"High\", and \"Low\" there is a good linear realtionship between each data points and its predecessors in the time series. Past values have a significant influence on future values.Stacked LSTM can be used for the data."
   ]
  },
  {
   "cell_type": "code",
   "execution_count": 36,
   "id": "ac3d6be0",
   "metadata": {},
   "outputs": [],
   "source": [
    "from sklearn.preprocessing import MinMaxScaler\n",
    "from tensorflow.keras.models import Sequential\n",
    "from tensorflow.keras.layers import LSTM, Dense, Dropout"
   ]
  },
  {
   "cell_type": "code",
   "execution_count": 37,
   "id": "203bd0e8",
   "metadata": {},
   "outputs": [],
   "source": [
    "data = df2[['Open', 'High']].values\n",
    "scaler = MinMaxScaler()\n",
    "data = scaler.fit_transform(data)"
   ]
  },
  {
   "cell_type": "code",
   "execution_count": 38,
   "id": "645fd476",
   "metadata": {},
   "outputs": [],
   "source": [
    "sequence_length = 10\n",
    "X, y = [], []\n",
    "for i in range(len(data) - sequence_length):\n",
    "    X.append(data[i:i+sequence_length, 0]) \n",
    "    y.append(data[i+sequence_length, 1])  "
   ]
  },
  {
   "cell_type": "code",
   "execution_count": 39,
   "id": "58048b5d",
   "metadata": {},
   "outputs": [],
   "source": [
    "X, y = np.array(X), np.array(y)\n",
    "split = int(0.8 * len(X))\n",
    "X_train, X_test, y_train, y_test = X[:split], X[split:], y[:split], y[split:]"
   ]
  },
  {
   "cell_type": "code",
   "execution_count": 61,
   "id": "d2d168e7",
   "metadata": {},
   "outputs": [],
   "source": [
    "#Stacked LSTM model with dropout\n",
    "model = Sequential()\n",
    "model.add(LSTM(50, return_sequences=True, input_shape=(sequence_length, 1)))\n",
    "model.add(Dropout(0.35))  \n",
    "model.add(LSTM(50, return_sequences=False))\n",
    "model.add(Dropout(0.2)) \n",
    "model.add(Dense(1))\n"
   ]
  },
  {
   "cell_type": "code",
   "execution_count": 62,
   "id": "c7cb05f4",
   "metadata": {
    "scrolled": true
   },
   "outputs": [
    {
     "name": "stdout",
     "output_type": "stream",
     "text": [
      "Epoch 1/50\n",
      "26/26 [==============================] - 5s 15ms/step - loss: 0.0413\n",
      "Epoch 2/50\n",
      "26/26 [==============================] - 0s 14ms/step - loss: 0.0042\n",
      "Epoch 3/50\n",
      "26/26 [==============================] - 0s 15ms/step - loss: 0.0024\n",
      "Epoch 4/50\n",
      "26/26 [==============================] - 0s 19ms/step - loss: 0.0021\n",
      "Epoch 5/50\n",
      "26/26 [==============================] - 0s 14ms/step - loss: 0.0022\n",
      "Epoch 6/50\n",
      "26/26 [==============================] - 0s 14ms/step - loss: 0.0025\n",
      "Epoch 7/50\n",
      "26/26 [==============================] - 0s 15ms/step - loss: 0.0021\n",
      "Epoch 8/50\n",
      "26/26 [==============================] - 0s 19ms/step - loss: 0.0019\n",
      "Epoch 9/50\n",
      "26/26 [==============================] - 0s 19ms/step - loss: 0.0018\n",
      "Epoch 10/50\n",
      "26/26 [==============================] - 0s 16ms/step - loss: 0.0018\n",
      "Epoch 11/50\n",
      "26/26 [==============================] - 0s 16ms/step - loss: 0.0018\n",
      "Epoch 12/50\n",
      "26/26 [==============================] - 0s 15ms/step - loss: 0.0018\n",
      "Epoch 13/50\n",
      "26/26 [==============================] - 0s 16ms/step - loss: 0.0016\n",
      "Epoch 14/50\n",
      "26/26 [==============================] - 1s 20ms/step - loss: 0.0018\n",
      "Epoch 15/50\n",
      "26/26 [==============================] - 0s 18ms/step - loss: 0.0017\n",
      "Epoch 16/50\n",
      "26/26 [==============================] - 0s 16ms/step - loss: 0.0016\n",
      "Epoch 17/50\n",
      "26/26 [==============================] - 0s 15ms/step - loss: 0.0014\n",
      "Epoch 18/50\n",
      "26/26 [==============================] - 0s 15ms/step - loss: 0.0015\n",
      "Epoch 19/50\n",
      "26/26 [==============================] - 0s 15ms/step - loss: 0.0016\n",
      "Epoch 20/50\n",
      "26/26 [==============================] - 0s 15ms/step - loss: 0.0016\n",
      "Epoch 21/50\n",
      "26/26 [==============================] - 0s 16ms/step - loss: 0.0017\n",
      "Epoch 22/50\n",
      "26/26 [==============================] - 0s 14ms/step - loss: 0.0014\n",
      "Epoch 23/50\n",
      "26/26 [==============================] - 0s 13ms/step - loss: 0.0016\n",
      "Epoch 24/50\n",
      "26/26 [==============================] - 0s 14ms/step - loss: 0.0016\n",
      "Epoch 25/50\n",
      "26/26 [==============================] - 0s 13ms/step - loss: 0.0016\n",
      "Epoch 26/50\n",
      "26/26 [==============================] - 0s 13ms/step - loss: 0.0015\n",
      "Epoch 27/50\n",
      "26/26 [==============================] - 0s 14ms/step - loss: 0.0015\n",
      "Epoch 28/50\n",
      "26/26 [==============================] - 0s 13ms/step - loss: 0.0014\n",
      "Epoch 29/50\n",
      "26/26 [==============================] - 0s 14ms/step - loss: 0.0014\n",
      "Epoch 30/50\n",
      "26/26 [==============================] - 0s 13ms/step - loss: 0.0015\n",
      "Epoch 31/50\n",
      "26/26 [==============================] - 0s 14ms/step - loss: 0.0013\n",
      "Epoch 32/50\n",
      "26/26 [==============================] - 0s 15ms/step - loss: 0.0013\n",
      "Epoch 33/50\n",
      "26/26 [==============================] - 0s 14ms/step - loss: 0.0014\n",
      "Epoch 34/50\n",
      "26/26 [==============================] - 0s 18ms/step - loss: 0.0014\n",
      "Epoch 35/50\n",
      "26/26 [==============================] - 0s 15ms/step - loss: 0.0013\n",
      "Epoch 36/50\n",
      "26/26 [==============================] - 0s 16ms/step - loss: 0.0014\n",
      "Epoch 37/50\n",
      "26/26 [==============================] - 0s 14ms/step - loss: 0.0013\n",
      "Epoch 38/50\n",
      "26/26 [==============================] - 0s 14ms/step - loss: 0.0013\n",
      "Epoch 39/50\n",
      "26/26 [==============================] - 0s 14ms/step - loss: 0.0011\n",
      "Epoch 40/50\n",
      "26/26 [==============================] - 0s 14ms/step - loss: 0.0012\n",
      "Epoch 41/50\n",
      "26/26 [==============================] - 0s 15ms/step - loss: 0.0013\n",
      "Epoch 42/50\n",
      "26/26 [==============================] - 0s 15ms/step - loss: 0.0012\n",
      "Epoch 43/50\n",
      "26/26 [==============================] - 0s 15ms/step - loss: 0.0012\n",
      "Epoch 44/50\n",
      "26/26 [==============================] - 0s 14ms/step - loss: 0.0014\n",
      "Epoch 45/50\n",
      "26/26 [==============================] - 0s 14ms/step - loss: 0.0012\n",
      "Epoch 46/50\n",
      "26/26 [==============================] - 0s 14ms/step - loss: 0.0012\n",
      "Epoch 47/50\n",
      "26/26 [==============================] - 0s 14ms/step - loss: 0.0011\n",
      "Epoch 48/50\n",
      "26/26 [==============================] - 0s 15ms/step - loss: 0.0012\n",
      "Epoch 49/50\n",
      "26/26 [==============================] - 0s 18ms/step - loss: 0.0012\n",
      "Epoch 50/50\n",
      "26/26 [==============================] - 0s 18ms/step - loss: 0.0011\n",
      "13/13 [==============================] - 1s 6ms/step - loss: 3.9494e-04\n",
      "13/13 [==============================] - 0s 5ms/step - loss: 3.9494e-04\n",
      "Testing Loss: 0.0004\n",
      "Training Loss: 0.0004\n"
     ]
    }
   ],
   "source": [
    "#Model Evaluation\n",
    "model.compile(optimizer='adam', loss='mean_squared_error')\n",
    "model.fit(X_train, y_train, epochs=50, batch_size=64)\n",
    "test_loss = model.evaluate(X_test, y_test)\n",
    "train_loss = model.evaluate(X_test, y_test)\n",
    "\n",
    "print(f\"Testing Loss: {test_loss:.4f}\")\n",
    "print(f\"Training Loss: {train_loss:.4f}\")"
   ]
  },
  {
   "cell_type": "markdown",
   "id": "f0bce515",
   "metadata": {},
   "source": [
    "Loss for both training and testing shows that the LSTM model is performing well on data that is \"has seen\" and \"not yet seen\". The LSTM model can predict the peak prices of the trading given the opening prices."
   ]
  },
  {
   "cell_type": "code",
   "execution_count": 46,
   "id": "56c30ba4",
   "metadata": {},
   "outputs": [],
   "source": [
    "data1 = df2[['Open', 'Low']].values\n",
    "scaler = MinMaxScaler()\n",
    "data1 = scaler.fit_transform(data1)"
   ]
  },
  {
   "cell_type": "code",
   "execution_count": 47,
   "id": "6d83310b",
   "metadata": {},
   "outputs": [],
   "source": [
    "sequence_length = 10\n",
    "X, y = [], []\n",
    "for i in range(len(data1) - sequence_length):\n",
    "    X.append(data1[i:i+sequence_length, 0]) \n",
    "    y.append(data1[i+sequence_length, 1])  "
   ]
  },
  {
   "cell_type": "code",
   "execution_count": 48,
   "id": "d014d714",
   "metadata": {},
   "outputs": [],
   "source": [
    "X, y = np.array(X), np.array(y)\n",
    "split = int(0.8 * len(X))\n",
    "X_train, X_test, y_train, y_test = X[:split], X[split:], y[:split], y[split:]"
   ]
  },
  {
   "cell_type": "code",
   "execution_count": 63,
   "id": "1bccc208",
   "metadata": {},
   "outputs": [],
   "source": [
    "#Stacked LSTM model with dropout\n",
    "model = Sequential()\n",
    "model.add(LSTM(50, return_sequences=True, input_shape=(sequence_length, 1)))\n",
    "model.add(Dropout(0.3))  # 20% dropout rate\n",
    "model.add(LSTM(50, return_sequences=False))\n",
    "model.add(Dropout(0.2))  # 20% dropout rate\n",
    "model.add(Dense(1))\n"
   ]
  },
  {
   "cell_type": "code",
   "execution_count": 64,
   "id": "340817fb",
   "metadata": {
    "scrolled": true
   },
   "outputs": [
    {
     "name": "stdout",
     "output_type": "stream",
     "text": [
      "Epoch 1/50\n",
      "26/26 [==============================] - 6s 15ms/step - loss: 0.0274\n",
      "Epoch 2/50\n",
      "26/26 [==============================] - 0s 14ms/step - loss: 0.0036\n",
      "Epoch 3/50\n",
      "26/26 [==============================] - 0s 15ms/step - loss: 0.0023\n",
      "Epoch 4/50\n",
      "26/26 [==============================] - 0s 14ms/step - loss: 0.0022\n",
      "Epoch 5/50\n",
      "26/26 [==============================] - 0s 14ms/step - loss: 0.0023\n",
      "Epoch 6/50\n",
      "26/26 [==============================] - 0s 14ms/step - loss: 0.0022\n",
      "Epoch 7/50\n",
      "26/26 [==============================] - 0s 15ms/step - loss: 0.0023\n",
      "Epoch 8/50\n",
      "26/26 [==============================] - 0s 14ms/step - loss: 0.0019\n",
      "Epoch 9/50\n",
      "26/26 [==============================] - 0s 15ms/step - loss: 0.0020\n",
      "Epoch 10/50\n",
      "26/26 [==============================] - 0s 15ms/step - loss: 0.0020\n",
      "Epoch 11/50\n",
      "26/26 [==============================] - 0s 15ms/step - loss: 0.0017\n",
      "Epoch 12/50\n",
      "26/26 [==============================] - 0s 15ms/step - loss: 0.0020\n",
      "Epoch 13/50\n",
      "26/26 [==============================] - 0s 14ms/step - loss: 0.0018\n",
      "Epoch 14/50\n",
      "26/26 [==============================] - 0s 14ms/step - loss: 0.0017\n",
      "Epoch 15/50\n",
      "26/26 [==============================] - 0s 16ms/step - loss: 0.0020\n",
      "Epoch 16/50\n",
      "26/26 [==============================] - 0s 15ms/step - loss: 0.0018\n",
      "Epoch 17/50\n",
      "26/26 [==============================] - 0s 14ms/step - loss: 0.0018\n",
      "Epoch 18/50\n",
      "26/26 [==============================] - 0s 14ms/step - loss: 0.0015\n",
      "Epoch 19/50\n",
      "26/26 [==============================] - 0s 14ms/step - loss: 0.0018\n",
      "Epoch 20/50\n",
      "26/26 [==============================] - 0s 14ms/step - loss: 0.0020\n",
      "Epoch 21/50\n",
      "26/26 [==============================] - 0s 14ms/step - loss: 0.0017\n",
      "Epoch 22/50\n",
      "26/26 [==============================] - 0s 14ms/step - loss: 0.0016\n",
      "Epoch 23/50\n",
      "26/26 [==============================] - 0s 14ms/step - loss: 0.0014\n",
      "Epoch 24/50\n",
      "26/26 [==============================] - 0s 14ms/step - loss: 0.0016\n",
      "Epoch 25/50\n",
      "26/26 [==============================] - 0s 14ms/step - loss: 0.0016\n",
      "Epoch 26/50\n",
      "26/26 [==============================] - 0s 14ms/step - loss: 0.0016\n",
      "Epoch 27/50\n",
      "26/26 [==============================] - 0s 14ms/step - loss: 0.0015\n",
      "Epoch 28/50\n",
      "26/26 [==============================] - 0s 15ms/step - loss: 0.0013\n",
      "Epoch 29/50\n",
      "26/26 [==============================] - 0s 15ms/step - loss: 0.0014\n",
      "Epoch 30/50\n",
      "26/26 [==============================] - 0s 15ms/step - loss: 0.0015\n",
      "Epoch 31/50\n",
      "26/26 [==============================] - 0s 16ms/step - loss: 0.0013\n",
      "Epoch 32/50\n",
      "26/26 [==============================] - 0s 16ms/step - loss: 0.0013\n",
      "Epoch 33/50\n",
      "26/26 [==============================] - 0s 16ms/step - loss: 0.0013\n",
      "Epoch 34/50\n",
      "26/26 [==============================] - 0s 15ms/step - loss: 0.0013\n",
      "Epoch 35/50\n",
      "26/26 [==============================] - 0s 15ms/step - loss: 0.0013\n",
      "Epoch 36/50\n",
      "26/26 [==============================] - 0s 15ms/step - loss: 0.0013\n",
      "Epoch 37/50\n",
      "26/26 [==============================] - 0s 16ms/step - loss: 0.0013\n",
      "Epoch 38/50\n",
      "26/26 [==============================] - 0s 17ms/step - loss: 0.0014\n",
      "Epoch 39/50\n",
      "26/26 [==============================] - 0s 17ms/step - loss: 0.0015\n",
      "Epoch 40/50\n",
      "26/26 [==============================] - 0s 17ms/step - loss: 0.0017\n",
      "Epoch 41/50\n",
      "26/26 [==============================] - 0s 16ms/step - loss: 0.0013\n",
      "Epoch 42/50\n",
      "26/26 [==============================] - 0s 16ms/step - loss: 0.0011\n",
      "Epoch 43/50\n",
      "26/26 [==============================] - 0s 16ms/step - loss: 0.0011\n",
      "Epoch 44/50\n",
      "26/26 [==============================] - 0s 16ms/step - loss: 0.0011\n",
      "Epoch 45/50\n",
      "26/26 [==============================] - 0s 15ms/step - loss: 0.0011\n",
      "Epoch 46/50\n",
      "26/26 [==============================] - 0s 15ms/step - loss: 0.0011\n",
      "Epoch 47/50\n",
      "26/26 [==============================] - 0s 15ms/step - loss: 0.0011\n",
      "Epoch 48/50\n",
      "26/26 [==============================] - 0s 15ms/step - loss: 0.0013\n",
      "Epoch 49/50\n",
      "26/26 [==============================] - 0s 15ms/step - loss: 0.0010\n",
      "Epoch 50/50\n",
      "26/26 [==============================] - 0s 17ms/step - loss: 9.5603e-04\n",
      "13/13 [==============================] - 1s 6ms/step - loss: 3.3243e-04\n",
      "13/13 [==============================] - 0s 5ms/step - loss: 3.3243e-04\n",
      "Testing Loss: 0.0003\n",
      "Training Loss: 0.0003\n"
     ]
    }
   ],
   "source": [
    "model.compile(optimizer='adam', loss='mean_squared_error')\n",
    "model.fit(X_train, y_train, epochs=50, batch_size=64)\n",
    "test_loss = model.evaluate(X_test, y_test)\n",
    "train_loss = model.evaluate(X_test, y_test)\n",
    "\n",
    "print(f\"Testing Loss: {test_loss:.4f}\")\n",
    "print(f\"Training Loss: {train_loss:.4f}\")"
   ]
  },
  {
   "cell_type": "markdown",
   "id": "97edf380",
   "metadata": {},
   "source": [
    "Loss for both training and testing shows that the LSTM model is performing well on data that is \"has seen\" and \"not yet seen\". The LSTM model can predict the lowest prices of the trading given the opening prices."
   ]
  },
  {
   "cell_type": "markdown",
   "id": "837fe302",
   "metadata": {},
   "source": [
    "Based on the LSTM model, the opening price can predict both the lowest price and highest price of the traidng which can be use to decide when to buy or to sell stocks, respectively."
   ]
  }
 ],
 "metadata": {
  "kernelspec": {
   "display_name": "Python 3 (ipykernel)",
   "language": "python",
   "name": "python3"
  },
  "language_info": {
   "codemirror_mode": {
    "name": "ipython",
    "version": 3
   },
   "file_extension": ".py",
   "mimetype": "text/x-python",
   "name": "python",
   "nbconvert_exporter": "python",
   "pygments_lexer": "ipython3",
   "version": "3.9.13"
  }
 },
 "nbformat": 4,
 "nbformat_minor": 5
}
